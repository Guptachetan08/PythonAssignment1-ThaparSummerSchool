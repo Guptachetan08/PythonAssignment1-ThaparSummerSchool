{
  "nbformat": 4,
  "nbformat_minor": 0,
  "metadata": {
    "colab": {
      "provenance": [],
      "authorship_tag": "ABX9TyOaPZcfSaS1vFhGpW8yMvQZ",
      "include_colab_link": true
    },
    "kernelspec": {
      "name": "python3",
      "display_name": "Python 3"
    },
    "language_info": {
      "name": "python"
    }
  },
  "cells": [
    {
      "cell_type": "markdown",
      "metadata": {
        "id": "view-in-github",
        "colab_type": "text"
      },
      "source": [
        "<a href=\"https://colab.research.google.com/github/Guptachetan08/PythonAssignment1-ThaparSummerSchool/blob/main/PythonAssignmentDay2MiniProject1.ipynb\" target=\"_parent\"><img src=\"https://colab.research.google.com/assets/colab-badge.svg\" alt=\"Open In Colab\"/></a>"
      ]
    },
    {
      "cell_type": "markdown",
      "source": [
        "### **Python Assignment**\n",
        "\n",
        "---\n",
        "\n",
        "#### Q1. List Operations\n",
        "L is a list defined as L = [11, 12, 13, 14].\n",
        "\n",
        "1. Write a program to add 50 and 60 to L.\n",
        "2. Write a program to remove 11 and 13 from L.\n",
        "3. Write a program to sort L in ascending order.\n",
        "4. Write a program to sort L in descending order.\n",
        "5. Write a program to search for 13 in L.\n",
        "6. Write a program to count the number of elements present in L.\n",
        "7. Write a program to sum all the elements in L.\n",
        "8. Write a program to sum all odd numbers in L.\n",
        "9. Write a program to sum all even numbers in L.\n",
        "10. Write a program to sum all prime numbers in L.\n",
        "11. Write a program to clear all the elements in L.\n",
        "12. Write a program to delete L.\n",
        "\n",
        "---\n",
        "\n",
        "#### Q2. Dictionary Operations\n",
        "D is a dictionary defined as D = {1: 5.6, 2: 7.8, 3: 6.6, 4: 8.7, 5: 7.7}.\n",
        "\n",
        "1. Write a program to add a new entry in D; key = 8 and value = 8.8.\n",
        "2. Write a program to remove key = 2.\n",
        "3. Write a program to check whether key 6 is present in D.\n",
        "4. Write a program to count the number of elements present in D.\n",
        "5. Write a program to add all the values present in D.\n",
        "6. Write a program to update the value of key 3 to 7.1.\n",
        "7. Write a program to clear the dictionary.\n",
        "\n",
        "---\n",
        "\n",
        "#### Q3. Set Operations\n",
        "S1 is a set defined as S1 = [10, 20, 30, 40, 50, 60].\n",
        "S2 is a set defined as S2 = [40, 50, 60, 70, 80, 90].\n",
        "\n",
        "1. Write a program to add 55 and 66 in Set S1.\n",
        "2. Write a program to remove 10 and 30 from Set S1.\n",
        "3. Write a program to check whether 40 is present in S1.\n",
        "4. Write a program to find the union between S1 and S2.\n",
        "5. Write a program to find the intersection between S1 and S2.\n",
        "6. Write a program to find the difference S1 - S2.\n",
        "\n",
        "---\n",
        "\n",
        "#### Q4. Miscellaneous Programs\n",
        "\n",
        "1. Write a program to print 100 random strings whose length is between 6 and 8.\n",
        "2. Write a program to print all prime numbers between 600 and 800.\n",
        "3. Write a program to print all numbers between 100 and 1000 that are divisible by 7 and 9.\n",
        "\n",
        "---\n",
        "\n",
        "#### Q5. List Operations with Random Numbers\n",
        "Write a program to create two lists of 10 random numbers between 10 and 30; then find:\n",
        "\n",
        "1. Common numbers in the two lists.\n",
        "2. Unique numbers in both lists.\n",
        "3. Minimum in both lists.\n",
        "4. Maximum in both lists.\n",
        "5. Sum of both lists.\n",
        "\n",
        "---\n",
        "\n",
        "#### Q6. Random Number List Operations\n",
        "Write a program to create a list of 100 random numbers between 100 and 900. Count and print the:\n",
        "\n",
        "1. All odd numbers.\n",
        "2. All even numbers.\n",
        "3. All prime numbers.\n",
        "\n",
        "---\n",
        "\n",
        "#### Q7. Dictionary to File\n",
        "D is a dictionary defined as D = {1: \"One\", 2: \"Two\", 3: \"Three\", 4: \"Four\", 5: \"Five\"}.\n",
        "\n",
        "Write a program to read all the keys and values from the dictionary and write to the file in the given format:\\\n",
        "Key1, Value1\\\n",
        "Key2, Value2\\\n",
        "Key3, Value3\n",
        "\n",
        "---\n",
        "\n",
        "#### Q8. List Length to File\n",
        "L is a list defined as L = {\"One\", \"Two\", \"Three\", \"Four\", \"Five\"}.\n",
        "\n",
        "Write a program to count the length of each element from the list and write to the file in the given format:\n",
        "\n",
        "\n",
        "---\n",
        "\n",
        "#### Q9. Write Random Strings to File\n",
        "Write to the file 100 random strings whose length is between 10 and 15.\n",
        "\n",
        "---\n",
        "\n",
        "#### Q10. Write Prime Numbers to File\n",
        "Write to the file all prime numbers between 600 and 800.\n",
        "\n",
        "---\n",
        "\n",
        "#### Q11. Calculate Program Execution Time\n",
        "Write a program to calculate the time taken by a program.\n",
        "\n",
        "---\n",
        "\n",
        "#### Q12. Sort Elements and Plot Time Taken\n",
        "Write a program to sort the following number of elements in a list, calculate the time taken, and plot the graph.\n",
        "Number of elements in list Time Taken\\\n",
        "5k T1\\\n",
        "10k T2\\\n",
        "15k T3\\\n",
        "20k T4\\\n",
        "25k T5\n",
        "\n",
        "---\n",
        "\n",
        "#### Q13. Student Marks Dictionary\n",
        "Write a program to create a dictionary of student marks in five subjects and find the student having maximum and minimum average marks.\n"
      ],
      "metadata": {
        "id": "kXrVj1BFyTYP"
      }
    },
    {
      "cell_type": "code",
      "source": [
        "# Q1: List Operations\n",
        "\n",
        "# (i) Add 50 and 60 to L\n",
        "L = [11, 12, 13, 14]\n",
        "L.extend([50, 60])\n",
        "print(\"After adding 50 and 60:\", L)\n",
        "\n",
        "# (ii) Remove 11 and 13 from L\n",
        "L.remove(11)\n",
        "L.remove(13)\n",
        "print(\"After removing 11 and 13:\", L)\n",
        "\n",
        "# (iii) Sort L in ascending order\n",
        "L.sort()\n",
        "print(\"Sorted in ascending order:\", L)\n",
        "\n",
        "# (iv) Sort L in descending order\n",
        "L.sort(reverse=True)\n",
        "print(\"Sorted in descending order:\", L)\n",
        "\n",
        "# (v) Search for 13 in L\n",
        "print(\"Is 13 in the list?\", 13 in L)\n",
        "\n",
        "# (vi) Count the number of elements in L\n",
        "print(\"Number of elements in L:\", len(L))\n",
        "\n",
        "# (vii) Sum all the elements in L\n",
        "print(\"Sum of all elements:\", sum(L))\n",
        "\n",
        "# (viii) Sum all odd numbers in L\n",
        "print(\"Sum of odd numbers:\", sum(x for x in L if x % 2 != 0))\n",
        "\n",
        "# (ix) Sum all even numbers in L\n",
        "print(\"Sum of even numbers:\", sum(x for x in L if x % 2 == 0))\n",
        "\n",
        "# (x) Sum all prime numbers in L\n",
        "def is_prime(n):\n",
        "    if n < 2:\n",
        "        return False\n",
        "    for i in range(2, int(n**0.5) + 1):\n",
        "        if n % i == 0:\n",
        "            return False\n",
        "    return True\n",
        "\n",
        "print(\"Sum of prime numbers:\", sum(x for x in L if is_prime(x)))\n",
        "\n",
        "# (xi) Clear all elements in L\n",
        "L.clear()\n",
        "print(\"List after clearing:\", L)\n",
        "\n",
        "# (xii) Delete L\n",
        "del L"
      ],
      "metadata": {
        "colab": {
          "base_uri": "https://localhost:8080/"
        },
        "id": "-zZ4NlD4ybpn",
        "outputId": "9777980a-ba83-478c-d68c-4096804ec26e"
      },
      "execution_count": 1,
      "outputs": [
        {
          "output_type": "stream",
          "name": "stdout",
          "text": [
            "After adding 50 and 60: [11, 12, 13, 14, 50, 60]\n",
            "After removing 11 and 13: [12, 14, 50, 60]\n",
            "Sorted in ascending order: [12, 14, 50, 60]\n",
            "Sorted in descending order: [60, 50, 14, 12]\n",
            "Is 13 in the list? False\n",
            "Number of elements in L: 4\n",
            "Sum of all elements: 136\n",
            "Sum of odd numbers: 0\n",
            "Sum of even numbers: 136\n",
            "Sum of prime numbers: 0\n",
            "List after clearing: []\n"
          ]
        }
      ]
    },
    {
      "cell_type": "code",
      "source": [
        "# Q2: Dictionary Operations\n",
        "\n",
        "# Initial dictionary\n",
        "D = {1: 5.6, 2: 7.8, 3: 6.6, 4: 8.7, 5: 7.7}\n",
        "\n",
        "# (i) Add new entry\n",
        "D[8] = 8.8\n",
        "print(\"After adding new entry:\", D)\n",
        "\n",
        "# (ii) Remove key=2\n",
        "D.pop(2, None)\n",
        "print(\"After removing key 2:\", D)\n",
        "\n",
        "# (iii) Check if key 6 is present\n",
        "print(\"Is key 6 present?\", 6 in D)\n",
        "\n",
        "# (iv) Count the number of elements\n",
        "print(\"Number of elements:\", len(D))\n",
        "\n",
        "# (v) Sum all values\n",
        "print(\"Sum of all values:\", sum(D.values()))\n",
        "\n",
        "# (vi) Update the value of key 3 to 7.1\n",
        "D[3] = 7.1\n",
        "print(\"After updating key 3:\", D)\n",
        "\n",
        "# (vii) Clear the dictionary\n",
        "D.clear()\n",
        "print(\"Dictionary after clearing:\", D)\n"
      ],
      "metadata": {
        "colab": {
          "base_uri": "https://localhost:8080/"
        },
        "id": "Rs2y1-t3z_61",
        "outputId": "44383238-f097-4bd7-f4f5-b3e53ffc91ce"
      },
      "execution_count": 2,
      "outputs": [
        {
          "output_type": "stream",
          "name": "stdout",
          "text": [
            "After adding new entry: {1: 5.6, 2: 7.8, 3: 6.6, 4: 8.7, 5: 7.7, 8: 8.8}\n",
            "After removing key 2: {1: 5.6, 3: 6.6, 4: 8.7, 5: 7.7, 8: 8.8}\n",
            "Is key 6 present? False\n",
            "Number of elements: 5\n",
            "Sum of all values: 37.4\n",
            "After updating key 3: {1: 5.6, 3: 7.1, 4: 8.7, 5: 7.7, 8: 8.8}\n",
            "Dictionary after clearing: {}\n"
          ]
        }
      ]
    },
    {
      "cell_type": "code",
      "source": [
        "# Q3: Set Operations\n",
        "\n",
        "# Initial sets\n",
        "S1 = {10, 20, 30, 40, 50, 60}\n",
        "S2 = {40, 50, 60, 70, 80, 90}\n",
        "\n",
        "# (i) Add 55 and 66 to S1\n",
        "S1.update([55, 66])\n",
        "print(\"After adding 55 and 66:\", S1)\n",
        "\n",
        "# (ii) Remove 10 and 30 from S1\n",
        "S1.discard(10)\n",
        "S1.discard(30)\n",
        "print(\"After removing 10 and 30:\", S1)\n",
        "\n",
        "# (iii) Check if 40 is present in S1\n",
        "print(\"Is 40 in S1?\", 40 in S1)\n",
        "\n",
        "# (iv) Union of S1 and S2\n",
        "print(\"Union of S1 and S2:\", S1.union(S2))\n",
        "\n",
        "# (v) Intersection of S1 and S2\n",
        "print(\"Intersection of S1 and S2:\", S1.intersection(S2))\n",
        "\n",
        "# (vi) Difference S1 - S2\n",
        "print(\"Difference S1 - S2:\", S1.difference(S2))"
      ],
      "metadata": {
        "colab": {
          "base_uri": "https://localhost:8080/"
        },
        "id": "b5j2qZ4t0A52",
        "outputId": "e0139288-cf81-4457-fa51-0a38bbb48733"
      },
      "execution_count": 3,
      "outputs": [
        {
          "output_type": "stream",
          "name": "stdout",
          "text": [
            "After adding 55 and 66: {50, 66, 20, 55, 40, 10, 60, 30}\n",
            "After removing 10 and 30: {50, 66, 20, 55, 40, 60}\n",
            "Is 40 in S1? True\n",
            "Union of S1 and S2: {66, 70, 40, 80, 50, 20, 55, 90, 60}\n",
            "Intersection of S1 and S2: {40, 50, 60}\n",
            "Difference S1 - S2: {66, 20, 55}\n"
          ]
        }
      ]
    },
    {
      "cell_type": "code",
      "source": [
        "# Q4: Miscellaneous Programs\n",
        "\n",
        "import random\n",
        "import string\n",
        "\n",
        "# (i) Print 100 random strings of length between 6 and 8\n",
        "random_strings = [''.join(random.choices(string.ascii_letters, k=random.randint(6, 8))) for _ in range(100)]\n",
        "print(\"100 random strings:\", random_strings)\n",
        "\n",
        "# (ii) Print all prime numbers between 600 and 800\n",
        "def is_prime(n):\n",
        "    if n < 2:\n",
        "        return False\n",
        "    for i in range(2, int(n**0.5) + 1):\n",
        "        if n % i == 0:\n",
        "            return False\n",
        "    return True\n",
        "\n",
        "primes = [num for num in range(600, 800) if is_prime(num)]\n",
        "print(\"Prime numbers between 600 and 800:\", primes)\n",
        "\n",
        "# (iii) Print all numbers between 100 and 1000 divisible by 7 and 9\n",
        "divisible_by_7_and_9 = [num for num in range(100, 1000) if num % 7 == 0 and num % 9 == 0]\n",
        "print(\"Numbers between 100 and 1000 divisible by 7 and 9:\", divisible_by_7_and_9)\n"
      ],
      "metadata": {
        "colab": {
          "base_uri": "https://localhost:8080/"
        },
        "id": "UrrxW5lh0DyE",
        "outputId": "0304b15a-aee5-4d87-a45f-3204379e3759"
      },
      "execution_count": 4,
      "outputs": [
        {
          "output_type": "stream",
          "name": "stdout",
          "text": [
            "100 random strings: ['twhkem', 'rUJxdG', 'yoWHfifv', 'fYHZPDfy', 'rUzpuH', 'XqbrbrL', 'Zxvncd', 'WnIkFXSo', 'HEsbapaD', 'kexQHsq', 'nSvBIIsy', 'KbhjQI', 'hnwgtPLU', 'TQLrzb', 'ihkvoCN', 'lRdpLJi', 'RXGQsc', 'hUwsCFy', 'hjbzuGA', 'TNyNlQac', 'ZxQfDPe', 'yhPmPTee', 'krGJeS', 'HUtSuM', 'glEXkqAp', 'iISSOi', 'hmggvgK', 'ZNMlwmZD', 'NGipxEd', 'lXVaRUN', 'rdoIqLtN', 'pYdvZGJ', 'GRdGJg', 'tajBRZoe', 'BPBlQw', 'ppRTpwJb', 'ihUzTzK', 'OEuKAlM', 'yKZhKU', 'WUnqIDwk', 'NJIDLFF', 'ReCJNDx', 'vwPRIqQ', 'WDHAWVO', 'mKNeIX', 'wzREJnUf', 'SJnzKPt', 'cIcgdgT', 'patfRUH', 'vqkygeN', 'tpyaBz', 'JMaEWB', 'BVgKJM', 'FmjGcCE', 'ILDPrS', 'RRqzqux', 'mgbELBU', 'TgOuUsq', 'qpZRyRq', 'MgKjHXJo', 'QsKjFEt', 'zdKsLC', 'xhoSvUk', 'gLoGIa', 'rwqsPur', 'ZdhHLBjU', 'xmVlwir', 'yxlfQB', 'lBOBbY', 'nPIBLv', 'WSLUgGND', 'RYMamzQh', 'eEbEynAB', 'FXBfxd', 'ZzLIyHj', 'xfEWdjo', 'DurSeoD', 'rjWQUQXk', 'NndttLl', 'JqbvgzF', 'lerAtASa', 'jUPDidnj', 'EzFgeL', 'pxGSBR', 'wXxGZAx', 'qHLybv', 'ycCDJdc', 'AdTHoRnC', 'vAJdnt', 'JBNVEi', 'NrpyFt', 'BmiNOs', 'KFscbj', 'VTdncmg', 'sVfuxu', 'VQYsyaG', 'rgttWAZD', 'fkTSgxJp', 'aXscCi', 'GWpYIxKz']\n",
            "Prime numbers between 600 and 800: [601, 607, 613, 617, 619, 631, 641, 643, 647, 653, 659, 661, 673, 677, 683, 691, 701, 709, 719, 727, 733, 739, 743, 751, 757, 761, 769, 773, 787, 797]\n",
            "Numbers between 100 and 1000 divisible by 7 and 9: [126, 189, 252, 315, 378, 441, 504, 567, 630, 693, 756, 819, 882, 945]\n"
          ]
        }
      ]
    },
    {
      "cell_type": "code",
      "source": [
        "# Q5. List Operations with Random Numbers\n",
        "import random\n",
        "\n",
        "# Generate two lists of 10 random numbers between 10 and 30\n",
        "list1 = [random.randint(10, 30) for _ in range(10)]\n",
        "list2 = [random.randint(10, 30) for _ in range(10)]\n",
        "\n",
        "print(\"List 1:\", list1)\n",
        "print(\"List 2:\", list2)\n",
        "\n",
        "# 1. Common numbers in the two lists\n",
        "common_numbers = set(list1).intersection(list2)\n",
        "print(\"Common numbers:\", common_numbers)\n",
        "\n",
        "# 2. Unique numbers in both lists\n",
        "unique_numbers = set(list1).symmetric_difference(list2)\n",
        "print(\"Unique numbers:\", unique_numbers)\n",
        "\n",
        "# 3. Minimum in both lists\n",
        "min_list1 = min(list1)\n",
        "min_list2 = min(list2)\n",
        "print(\"Minimum in List 1:\", min_list1)\n",
        "print(\"Minimum in List 2:\", min_list2)\n",
        "\n",
        "# 4. Maximum in both lists\n",
        "max_list1 = max(list1)\n",
        "max_list2 = max(list2)\n",
        "print(\"Maximum in List 1:\", max_list1)\n",
        "print(\"Maximum in List 2:\", max_list2)\n",
        "\n",
        "# 5. Sum of both lists\n",
        "sum_list1 = sum(list1)\n",
        "sum_list2 = sum(list2)\n",
        "print(\"Sum of List 1:\", sum_list1)\n",
        "print(\"Sum of List 2:\", sum_list2)\n"
      ],
      "metadata": {
        "colab": {
          "base_uri": "https://localhost:8080/"
        },
        "id": "IhdVsl8u0GCp",
        "outputId": "d2a3ea56-936d-4fba-d01a-5431c18dcb02"
      },
      "execution_count": 6,
      "outputs": [
        {
          "output_type": "stream",
          "name": "stdout",
          "text": [
            "List 1: [30, 25, 12, 30, 23, 18, 19, 24, 13, 27]\n",
            "List 2: [28, 22, 15, 13, 11, 11, 13, 19, 12, 11]\n",
            "Common numbers: {19, 12, 13}\n",
            "Unique numbers: {11, 15, 18, 22, 23, 24, 25, 27, 28, 30}\n",
            "Minimum in List 1: 12\n",
            "Minimum in List 2: 11\n",
            "Maximum in List 1: 30\n",
            "Maximum in List 2: 28\n",
            "Sum of List 1: 221\n",
            "Sum of List 2: 155\n"
          ]
        }
      ]
    },
    {
      "cell_type": "code",
      "source": [
        "# Q6. Random Number List Operations\n",
        "import random\n",
        "\n",
        "# Function to check if a number is prime\n",
        "def is_prime(n):\n",
        "    if n <= 1:\n",
        "        return False\n",
        "    for i in range(2, int(n**0.5) + 1):\n",
        "        if n % i == 0:\n",
        "            return False\n",
        "    return True\n",
        "\n",
        "# Generate a list of 100 random numbers between 100 and 900\n",
        "random_numbers = [random.randint(100, 900) for _ in range(100)]\n",
        "\n",
        "# 1. All odd numbers\n",
        "odd_numbers = [num for num in random_numbers if num % 2 != 0]\n",
        "print(\"Odd numbers:\", odd_numbers)\n",
        "\n",
        "# 2. All even numbers\n",
        "even_numbers = [num for num in random_numbers if num % 2 == 0]\n",
        "print(\"Even numbers:\", even_numbers)\n",
        "\n",
        "# 3. All prime numbers\n",
        "prime_numbers = [num for num in random_numbers if is_prime(num)]\n",
        "print(\"Prime numbers:\", prime_numbers)"
      ],
      "metadata": {
        "colab": {
          "base_uri": "https://localhost:8080/"
        },
        "id": "_oFseCTR2U_Z",
        "outputId": "ba71aa9c-1390-4405-bb20-890567602cc7"
      },
      "execution_count": 7,
      "outputs": [
        {
          "output_type": "stream",
          "name": "stdout",
          "text": [
            "Odd numbers: [797, 411, 289, 523, 253, 359, 163, 615, 687, 109, 461, 595, 573, 511, 191, 895, 801, 561, 799, 555, 503, 431, 277, 457, 889, 271, 605, 823, 465, 747, 241, 515, 499, 275, 573, 829, 491, 771, 377, 495, 495, 745, 447, 645, 421, 891, 529, 267, 457, 569, 869, 387, 119, 731, 617, 805, 735, 425]\n",
            "Even numbers: [292, 656, 416, 496, 424, 112, 370, 562, 408, 694, 894, 454, 680, 646, 194, 362, 564, 698, 664, 758, 494, 172, 284, 656, 342, 766, 868, 656, 188, 752, 644, 370, 234, 604, 196, 140, 394, 216, 620, 828, 700, 470]\n",
            "Prime numbers: [797, 523, 359, 163, 109, 461, 191, 503, 431, 277, 457, 271, 823, 241, 499, 829, 491, 421, 457, 569, 617]\n"
          ]
        }
      ]
    },
    {
      "cell_type": "code",
      "source": [
        "# Q7: Write dictionary to file\n",
        "\n",
        "D = {1: \"One\", 2: \"Two\", 3: \"Three\", 4: \"Four\", 5: \"Five\"}\n",
        "\n",
        "with open(\"output_q7.txt\", \"w\") as file:\n",
        "    for key, value in D.items():\n",
        "        file.write(f\"{key}, {value}\\n\")\n"
      ],
      "metadata": {
        "id": "AlM-7z0E0dta"
      },
      "execution_count": 8,
      "outputs": []
    },
    {
      "cell_type": "code",
      "source": [
        "# Q8: Write list elements' lengths to file\n",
        "\n",
        "L = [\"One\", \"Two\", \"Three\", \"Four\", \"Five\"]\n",
        "\n",
        "with open(\"output_q8.txt\", \"w\") as file:\n",
        "    for item in L:\n",
        "        file.write(f\"{item}, {len(item)}\\n\")\n"
      ],
      "metadata": {
        "id": "RZN7iJu70eer"
      },
      "execution_count": 9,
      "outputs": []
    },
    {
      "cell_type": "code",
      "source": [
        "import random\n",
        "import string\n",
        "\n",
        "# Q9: Write 100 random strings to file\n",
        "\n",
        "random_strings = [''.join(random.choices(string.ascii_letters, k=random.randint(10, 15))) for _ in range(100)]\n",
        "\n",
        "with open(\"output_q9.txt\", \"w\") as file:\n",
        "    for string in random_strings:\n",
        "        file.write(f\"{string}\\n\")\n"
      ],
      "metadata": {
        "id": "g9m-EGQn0iG9"
      },
      "execution_count": 10,
      "outputs": []
    },
    {
      "cell_type": "code",
      "source": [
        "# Q10: Write prime numbers between 600 and 800 to file\n",
        "\n",
        "def is_prime(n):\n",
        "    if n < 2:\n",
        "        return False\n",
        "    for i in range(2, int(n**0.5) + 1):\n",
        "        if n % i == 0:\n",
        "            return False\n",
        "    return True\n",
        "\n",
        "prime_numbers = [num for num in range(600, 800) if is_prime(num)]\n",
        "\n",
        "with open(\"output_q10.txt\", \"w\") as file:\n",
        "    for num in prime_numbers:\n",
        "        file.write(f\"{num}\\n\")\n"
      ],
      "metadata": {
        "id": "Eguiedfv0keb"
      },
      "execution_count": 11,
      "outputs": []
    },
    {
      "cell_type": "code",
      "source": [
        "import time\n",
        "\n",
        "# Q11: Measure time taken by a program\n",
        "\n",
        "start_time = time.time()\n",
        "\n",
        "# Example program (sum of first 10000 numbers)\n",
        "total_sum = sum(range(10000))\n",
        "\n",
        "end_time = time.time()\n",
        "time_taken = end_time - start_time\n",
        "\n",
        "print(\"Time taken by the program:\", time_taken, \"seconds\")\n"
      ],
      "metadata": {
        "colab": {
          "base_uri": "https://localhost:8080/"
        },
        "id": "ASfNExOE0mo3",
        "outputId": "374f0591-7b48-40fe-d4cf-f4d0d92a863b"
      },
      "execution_count": 12,
      "outputs": [
        {
          "output_type": "stream",
          "name": "stdout",
          "text": [
            "Time taken by the program: 0.0004761219024658203 seconds\n"
          ]
        }
      ]
    },
    {
      "cell_type": "code",
      "source": [
        "import time\n",
        "import matplotlib.pyplot as plt\n",
        "\n",
        "# Q12: Measure time taken to sort lists of different sizes\n",
        "\n",
        "sizes = [5000, 10000, 15000, 20000, 25000]\n",
        "times = []\n",
        "\n",
        "for size in sizes:\n",
        "    random_list = [random.randint(0, 100000) for _ in range(size)]\n",
        "    start_time = time.time()\n",
        "    random_list.sort()\n",
        "    end_time = time.time()\n",
        "    times.append(end_time - start_time)\n",
        "\n",
        "# Plotting the graph\n",
        "plt.plot(sizes, times, marker='o')\n",
        "plt.title(\"Time taken to sort lists of different sizes\")\n",
        "plt.xlabel(\"Number of elements in list\")\n",
        "plt.ylabel(\"Time taken (seconds)\")\n",
        "plt.grid(True)\n",
        "plt.show()\n"
      ],
      "metadata": {
        "colab": {
          "base_uri": "https://localhost:8080/",
          "height": 472
        },
        "id": "vVy3nXoa0p95",
        "outputId": "c629888e-bb80-439e-936d-c16a938a54c3"
      },
      "execution_count": 13,
      "outputs": [
        {
          "output_type": "display_data",
          "data": {
            "text/plain": [
              "<Figure size 640x480 with 1 Axes>"
            ],
            "image/png": "[encoded data removed]"
          },
          "metadata": {}
        }
      ]
    },
    {
      "cell_type": "code",
      "source": [
        "# Q13: Find student with maximum and minimum average marks\n",
        "\n",
        "students_marks = {\n",
        "    \"student1\": [85, 78, 92, 88, 76],\n",
        "    \"student2\": [79, 82, 84, 90, 89],\n",
        "    \"student3\": [91, 92, 93, 87, 85],\n",
        "    \"student4\": [75, 74, 70, 72, 76],\n",
        "    \"student5\": [89, 85, 84, 82, 80]\n",
        "}\n",
        "\n",
        "average_marks = {student: sum(marks) / len(marks) for student, marks in students_marks.items()}\n",
        "\n",
        "max_avg_student = max(average_marks, key=average_marks.get)\n",
        "min_avg_student = min(average_marks, key=average_marks.get)\n",
        "\n",
        "print(\"Student with maximum average marks:\", max_avg_student)\n",
        "print(\"Student with minimum average marks:\", min_avg_student)\n"
      ],
      "metadata": {
        "colab": {
          "base_uri": "https://localhost:8080/"
        },
        "id": "iR_-_ubW0scv",
        "outputId": "966279e6-7bbf-492e-b6ec-9540d5dfe1f7"
      },
      "execution_count": 14,
      "outputs": [
        {
          "output_type": "stream",
          "name": "stdout",
          "text": [
            "Student with maximum average marks: student3\n",
            "Student with minimum average marks: student4\n"
          ]
        }
      ]
    },
    {
      "cell_type": "code",
      "source": [],
      "metadata": {
        "id": "qdbX6o3n2f9k"
      },
      "execution_count": null,
      "outputs": []
    }
  ]
}